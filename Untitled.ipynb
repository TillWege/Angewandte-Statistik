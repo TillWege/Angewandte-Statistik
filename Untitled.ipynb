{
 "cells": [
  {
   "cell_type": "markdown",
   "id": "b39794fc-169a-4c46-b404-6290e3ce93da",
   "metadata": {},
   "source": [
    "# Hier steht eine überschrift"
   ]
  },
  {
   "cell_type": "code",
   "execution_count": 1,
   "id": "085bf145-6cc7-4e63-8136-20e1616f72e5",
   "metadata": {},
   "outputs": [],
   "source": [
    "import numpy as np"
   ]
  },
  {
   "cell_type": "code",
   "execution_count": 2,
   "id": "36ef2076",
   "metadata": {},
   "outputs": [
    {
     "data": {
      "text/plain": [
       "array([2, 4, 6])"
      ]
     },
     "execution_count": 2,
     "metadata": {},
     "output_type": "execute_result"
    }
   ],
   "source": [
    "a = np.array([1, 2, 3])\n",
    "b = 2\n",
    "\n",
    "c = a * b\n",
    "c"
   ]
  },
  {
   "cell_type": "code",
   "execution_count": 3,
   "id": "702edbee",
   "metadata": {
    "tags": []
   },
   "outputs": [],
   "source": [
    "\n",
    "import math\n",
    "import latexify"
   ]
  },
  {
   "cell_type": "code",
   "execution_count": 9,
   "id": "98f477c1-e72d-4d1d-adea-23240165ce4c",
   "metadata": {
    "tags": []
   },
   "outputs": [
    {
     "data": {
      "text/latex": [
       "$$ \\displaystyle \\begin{array}{l} d = b^{{2}} - {4} a c \\\\ e = {2} a \\\\ \\mathrm{solve}(a, b, c) = \\frac{-b + \\sqrt{d}}{e} \\end{array} $$"
      ],
      "text/plain": [
       "<latexify.frontend.LatexifiedFunction at 0x1209f3460>"
      ]
     },
     "execution_count": 9,
     "metadata": {},
     "output_type": "execute_result"
    }
   ],
   "source": [
    "\n",
    "@latexify.function\n",
    "def solve(a, b, c):\n",
    "\n",
    "    return (-b + np.sqrt(b**2 - 4*a*c)) / (2*a)\n",
    "\n",
    "\n",
    "solve"
   ]
  },
  {
   "cell_type": "code",
   "execution_count": null,
   "id": "132993d4-24c4-47a9-8eb9-6bcbd2c36b53",
   "metadata": {},
   "outputs": [],
   "source": []
  }
 ],
 "metadata": {
  "kernelspec": {
   "display_name": "Python 3 (ipykernel)",
   "language": "python",
   "name": "python3"
  },
  "language_info": {
   "codemirror_mode": {
    "name": "ipython",
    "version": 3
   },
   "file_extension": ".py",
   "mimetype": "text/x-python",
   "name": "python",
   "nbconvert_exporter": "python",
   "pygments_lexer": "ipython3",
   "version": "3.10.9"
  }
 },
 "nbformat": 4,
 "nbformat_minor": 5
}
